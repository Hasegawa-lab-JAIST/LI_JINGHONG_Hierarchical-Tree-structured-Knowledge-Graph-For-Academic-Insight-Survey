{
  "cells": [
    {
      "cell_type": "code",
      "execution_count": null,
      "metadata": {},
      "outputs": [],
      "source": [
        "import pandas as pd\n",
        "import re\n",
        "import string\n",
        "from colorama import Fore"
      ]
    },
    {
      "cell_type": "code",
      "execution_count": null,
      "metadata": {},
      "outputs": [],
      "source": [
        "#HotpotQa paper_content from S2orc,Source in https://doi.org/10.34740/KAGGLE/DS/4330260\n",
        "df=pd.read_csv('./Data/Hotpotqa_paper_content.csv',index_col=0)"
      ]
    },
    {
      "cell_type": "code",
      "execution_count": null,
      "metadata": {},
      "outputs": [],
      "source": [
        "#Get offset of text\n",
        "def get_offset(dict,i):\n",
        "    start=dic[i]['start']\n",
        "    end=dic[i]['end']\n",
        "    return start,end"
      ]
    },
    {
      "cell_type": "code",
      "execution_count": null,
      "metadata": {},
      "outputs": [],
      "source": [
        "#Extract text of paper-title by using annotation and offset  \n",
        "title_list=[]\n",
        "for i in range(len(df)):\n",
        "    a=eval(df['content'][i])\n",
        "    if a['annotations']['title']==None:\n",
        "        title_list.append('None')\n",
        "    else:\n",
        "        dic=eval(a['annotations']['title'])\n",
        "        start,end = get_offset(dic,0)\n",
        "        title_list.append(a['text'][start:end])"
      ]
    },
    {
      "cell_type": "code",
      "execution_count": null,
      "metadata": {},
      "outputs": [],
      "source": [
        "# Insert paper-title column\n",
        "df.insert(1,'title',title_list)\n",
        "df"
      ]
    },
    {
      "cell_type": "code",
      "execution_count": null,
      "metadata": {},
      "outputs": [],
      "source": [
        "#Extract text from Section 'limitation','Disscussion','Conclusion'\n",
        "columns = ['corpusid','paper-title','section-title','Target','Content','ref_paper_id','pdfurl']\n",
        "d_sec=pd.DataFrame(columns=columns)\n",
        "\n",
        "strings=''\n",
        "for i in range(len(df)):\n",
        "    a=eval(df['content'][i])\n",
        "    position=[]\n",
        "    text_end=len(a['text'])-1\n",
        "\n",
        "    #URL\n",
        "    try:\n",
        "        url=a['source']['pdfurls'][0]\n",
        "    except:\n",
        "        url='NaN'\n",
        "    \n",
        "    #section\n",
        "    try:\n",
        "        dic=eval(a['annotations']['sectionheader'])\n",
        "    except:\n",
        "        continue\n",
        "\n",
        "    for j in range(len(dic)):\n",
        "        if 'attributes' not in list(dic[j].keys()): # section_num strings in section\n",
        "            continue\n",
        "        \n",
        "        start,end = get_offset(dic,j)\n",
        "        try:\n",
        "            start_next,end_next=get_offset(dic,j+1)\n",
        "        except:\n",
        "            print('bottom')\n",
        "        # print('start:',start)\n",
        "        sec_num=dic[j]['attributes']['n']\n",
        "        section_title = a['text'][start:end].lower()\n",
        "            \n",
        "        if 'disscuss' in section_title and 'conclusion' not in section_title:\n",
        "            Total=a['text'][end:start_next].lower()\n",
        "\n",
        "            print(Fore.GREEN +'disscussion:',Total.replace('\\n',''))\n",
        "            strings=Total.replace('\\n','')\n",
        "            # add-data\n",
        "            d_sec_append=pd.DataFrame(data=[[df['corpusid'][i],df['title'][i],section_title,'Insight-tree',strings,df['ref_paper_id'][i],url]], columns=columns)\n",
        "            d_sec=pd.concat([d_sec, d_sec_append], ignore_index=True, axis=0)\n",
        "\n",
        "        if 'limitation' in section_title and 'conclusion' not in section_title:\n",
        "            Total=a['text'][end:start_next].lower()\n",
        "\n",
        "            print(Fore.GREEN +'limitation:',Total.replace('\\n',''))\n",
        "            strings=Total.replace('\\n','')\n",
        "            # add-data\n",
        "            d_sec_append=pd.DataFrame(data=[[df['corpusid'][i],df['title'][i],section_title,'Insight-tree',strings,df['ref_paper_id'][i],url]], columns=columns)\n",
        "            d_sec=pd.concat([d_sec, d_sec_append], ignore_index=True, axis=0)\n",
        "\n",
        "        \n",
        "        if 'conclusion' in section_title:\n",
        "            for p in range(len(eval(a['annotations']['paragraph']))):\n",
        "                ref_flag=eval(a['annotations']['paragraph'])[p]['end']\n",
        "                if ref_flag > end:\n",
        "                    break\n",
        "            \n",
        "            Total=a['text'][end:ref_flag].lower()\n",
        "\n",
        "            print(Fore.GREEN +'conclusion:',Total.replace('\\n',''))\n",
        "            strings=Total.replace('\\n','')\n",
        "            # add-data\n",
        "            d_sec_append=pd.DataFrame(data=[[df['corpusid'][i],df['title'][i],section_title,'Insight-tree',strings,df['ref_paper_id'][i],url]], columns=columns)\n",
        "            d_sec=pd.concat([d_sec, d_sec_append], ignore_index=True, axis=0)\n",
        "        \n",
        "        print(Fore.MAGENTA + 'Section_title:',sec_num + ' ',a['text'][start:end])\n",
        "        end_pos=end\n",
        "        position.append(end_pos)\n",
        "        \n",
        "    print('\\n')\n",
        "    print('#########')"
      ]
    },
    {
      "cell_type": "code",
      "execution_count": null,
      "metadata": {},
      "outputs": [],
      "source": [
        "Insight_dataset=d_sec[d_sec['Target']=='Insight-tree']\n",
        "Insight_dataset"
      ]
    },
    {
      "cell_type": "code",
      "execution_count": null,
      "metadata": {},
      "outputs": [],
      "source": [
        "Insight_dataset=Insight_dataset.reset_index(drop=True)"
      ]
    },
    {
      "cell_type": "code",
      "execution_count": null,
      "metadata": {},
      "outputs": [],
      "source": [
        "#Delete rows with lack of information\n",
        "emp=[]\n",
        "for i in range(len(Insight_dataset)):\n",
        "    text=Insight_dataset['Content'][i]\n",
        "    if len(text)<=10:\n",
        "        emp.append(i)\n",
        "\n",
        "Insight_dataset.drop(index=emp, inplace=True)\n",
        "\n",
        "Insight_dataset=Insight_dataset.reset_index(drop=True)"
      ]
    },
    {
      "cell_type": "code",
      "execution_count": null,
      "metadata": {},
      "outputs": [],
      "source": [
        "#Drop_duplicates\n",
        "Insight_dataset=Insight_dataset.drop_duplicates(\"Content\")\n",
        "Insight_dataset=Insight_dataset.reset_index(drop=True)"
      ]
    },
    {
      "cell_type": "code",
      "execution_count": null,
      "metadata": {},
      "outputs": [],
      "source": [
        "Insight_dataset.insert(7,'ReSolved','None')\n",
        "Insight_dataset.insert(8,'Finding','None')\n",
        "Insight_dataset=Insight_dataset.reset_index(drop=True)"
      ]
    },
    {
      "cell_type": "code",
      "execution_count": null,
      "metadata": {},
      "outputs": [],
      "source": [
        "Insight_dataset.to_csv('./Data/Insight_dataset.csv')"
      ]
    },
    {
      "cell_type": "markdown",
      "metadata": {},
      "source": [
        "# Sentence segmentation"
      ]
    },
    {
      "cell_type": "code",
      "execution_count": null,
      "metadata": {},
      "outputs": [],
      "source": [
        "import spacy\n",
        "import pandas as pd"
      ]
    },
    {
      "cell_type": "code",
      "execution_count": null,
      "metadata": {},
      "outputs": [],
      "source": [
        "# Install en_core_scibert for sentence segmentation\n",
        "!pip install https://s3-us-west-2.amazonaws.com/ai2-s2-scispacy/releases/v0.5.4/en_core_sci_lg-0.5.4.tar.gz"
      ]
    },
    {
      "cell_type": "code",
      "execution_count": null,
      "metadata": {},
      "outputs": [],
      "source": [
        "#load en_core_sci_lg\n",
        "nlp = spacy.load('en_core_sci_lg')"
      ]
    },
    {
      "cell_type": "code",
      "execution_count": null,
      "metadata": {},
      "outputs": [],
      "source": [
        "columns = ['corpusid','paper-title','section-title','Target','Sentence','pdf-url']\n",
        "d_sentences=pd.DataFrame(columns=columns)\n",
        "\n",
        "for i in range(len(Insight_dataset)):\n",
        "    doc=nlp(Insight_dataset['Content'][i])\n",
        "    for sentence in doc.sents:\n",
        "        # print(sentence)\n",
        "        # add-data\n",
        "        text=str(sentence)\n",
        "        d_sentences_append=pd.DataFrame(data=[[Insight_dataset['corpusid'][i],Insight_dataset['paper-title'][i],Insight_dataset['section-title'][i],'Insight-tree',text,Insight_dataset['pdfurl'][i]]], columns=columns)\n",
        "        d_sentences=pd.concat([d_sentences, d_sentences_append], ignore_index=True, axis=0)"
      ]
    },
    {
      "cell_type": "code",
      "execution_count": null,
      "metadata": {},
      "outputs": [],
      "source": [
        "d_sentences"
      ]
    },
    {
      "cell_type": "code",
      "execution_count": null,
      "metadata": {},
      "outputs": [],
      "source": [
        "d_sentences.to_csv('./Data/Insight_sentences.csv')"
      ]
    }
  ],
  "metadata": {
    "accelerator": "GPU",
    "colab": {
      "name": "gnn_citations",
      "provenance": [],
      "toc_visible": true
    },
    "kernelspec": {
      "display_name": "Python 3",
      "language": "python",
      "name": "python3"
    },
    "language_info": {
      "codemirror_mode": {
        "name": "ipython",
        "version": 3
      },
      "file_extension": ".py",
      "mimetype": "text/x-python",
      "name": "python",
      "nbconvert_exporter": "python",
      "pygments_lexer": "ipython3",
      "version": "3.9.13"
    }
  },
  "nbformat": 4,
  "nbformat_minor": 0
}
