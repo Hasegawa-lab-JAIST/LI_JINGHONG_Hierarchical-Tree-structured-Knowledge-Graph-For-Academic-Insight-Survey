{
  "cells": [
    {
      "cell_type": "code",
      "execution_count": 6,
      "metadata": {},
      "outputs": [],
      "source": [
        "import pandas as pd\n",
        "import re\n",
        "import string\n",
        "from colorama import Fore\n",
        "import kagglehub"
      ]
    },
    {
      "cell_type": "code",
      "execution_count": 7,
      "metadata": {},
      "outputs": [
        {
          "name": "stdout",
          "output_type": "stream",
          "text": [
            "Downloading from https://www.kaggle.com/api/v1/datasets/download/dannyleeakira/dataset-for-academic-novelty-insight-survey?dataset_version_number=7...\n"
          ]
        },
        {
          "name": "stderr",
          "output_type": "stream",
          "text": [
            "100%|██████████| 41.0M/41.0M [00:02<00:00, 20.5MB/s]"
          ]
        },
        {
          "name": "stdout",
          "output_type": "stream",
          "text": [
            "Extracting files...\n"
          ]
        },
        {
          "name": "stderr",
          "output_type": "stream",
          "text": [
            "\n"
          ]
        },
        {
          "name": "stdout",
          "output_type": "stream",
          "text": [
            "Path to dataset files: /Users/rikenkon/.cache/kagglehub/datasets/dannyleeakira/dataset-for-academic-novelty-insight-survey/versions/7\n"
          ]
        }
      ],
      "source": [
        "# Download latest version\n",
        "path = kagglehub.dataset_download(\"dannyleeakira/dataset-for-academic-novelty-insight-survey\")\n",
        "\n",
        "print(\"Path to dataset files:\", path)"
      ]
    },
    {
      "cell_type": "code",
      "execution_count": 10,
      "metadata": {},
      "outputs": [
        {
          "data": {
            "text/html": [
              "<div>\n",
              "<style scoped>\n",
              "    .dataframe tbody tr th:only-of-type {\n",
              "        vertical-align: middle;\n",
              "    }\n",
              "\n",
              "    .dataframe tbody tr th {\n",
              "        vertical-align: top;\n",
              "    }\n",
              "\n",
              "    .dataframe thead th {\n",
              "        text-align: right;\n",
              "    }\n",
              "</style>\n",
              "<table border=\"1\" class=\"dataframe\">\n",
              "  <thead>\n",
              "    <tr style=\"text-align: right;\">\n",
              "      <th></th>\n",
              "      <th>corpusid</th>\n",
              "      <th>externalids</th>\n",
              "      <th>content</th>\n",
              "      <th>updated</th>\n",
              "      <th>ref_paper_id</th>\n",
              "    </tr>\n",
              "  </thead>\n",
              "  <tbody>\n",
              "    <tr>\n",
              "      <th>0</th>\n",
              "      <td>263908862</td>\n",
              "      <td>{'arxiv': '2310.08541', 'mag': None, 'acl': No...</td>\n",
              "      <td>{'source': {'pdfurls': ['https://export.arxiv....</td>\n",
              "      <td>NaN</td>\n",
              "      <td>{}</td>\n",
              "    </tr>\n",
              "    <tr>\n",
              "      <th>1</th>\n",
              "      <td>248665596</td>\n",
              "      <td>{'arxiv': None, 'mag': None, 'acl': None, 'pub...</td>\n",
              "      <td>{'source': {'pdfurls': ['https://arxiv.org/pdf...</td>\n",
              "      <td>NaN</td>\n",
              "      <td>{220302524: '[30]'}</td>\n",
              "    </tr>\n",
              "    <tr>\n",
              "      <th>2</th>\n",
              "      <td>6729528</td>\n",
              "      <td>{'arxiv': '1406.0930', 'mag': '2296706549', 'a...</td>\n",
              "      <td>{'source': {'pdfurls': ['https://arxiv.org/pdf...</td>\n",
              "      <td>NaN</td>\n",
              "      <td>{}</td>\n",
              "    </tr>\n",
              "    <tr>\n",
              "      <th>3</th>\n",
              "      <td>264490922</td>\n",
              "      <td>{'arxiv': None, 'mag': None, 'acl': None, 'pub...</td>\n",
              "      <td>{'source': {'pdfurls': ['https://export.arxiv....</td>\n",
              "      <td>NaN</td>\n",
              "      <td>{123758373: 'Chen and Durrett, 2019;', 2466523...</td>\n",
              "    </tr>\n",
              "    <tr>\n",
              "      <th>4</th>\n",
              "      <td>14155615</td>\n",
              "      <td>{'arxiv': None, 'mag': '2065435633', 'acl': No...</td>\n",
              "      <td>{'source': {'pdfurls': None, 'pdfsha': '8cd7af...</td>\n",
              "      <td>NaN</td>\n",
              "      <td>NaN</td>\n",
              "    </tr>\n",
              "    <tr>\n",
              "      <th>...</th>\n",
              "      <td>...</td>\n",
              "      <td>...</td>\n",
              "      <td>...</td>\n",
              "      <td>...</td>\n",
              "      <td>...</td>\n",
              "    </tr>\n",
              "    <tr>\n",
              "      <th>1534</th>\n",
              "      <td>236459873</td>\n",
              "      <td>{'arxiv': None, 'mag': None, 'acl': '2021.acl-...</td>\n",
              "      <td>{'source': {'pdfurls': ['https://aclanthology....</td>\n",
              "      <td>NaN</td>\n",
              "      <td>{218487313: 'Yadav et al., 2020', 52822214: 'Y...</td>\n",
              "    </tr>\n",
              "    <tr>\n",
              "      <th>1535</th>\n",
              "      <td>2724512</td>\n",
              "      <td>{'arxiv': None, 'mag': '2021858754', 'acl': No...</td>\n",
              "      <td>{'source': {'pdfurls': None, 'pdfsha': 'fb186d...</td>\n",
              "      <td>NaN</td>\n",
              "      <td>{9060527: '[41]'}</td>\n",
              "    </tr>\n",
              "    <tr>\n",
              "      <th>1536</th>\n",
              "      <td>202565945</td>\n",
              "      <td>{'arxiv': '1909.05803', 'mag': '2972378157', '...</td>\n",
              "      <td>{'source': {'pdfurls': ['https://www.aclweb.or...</td>\n",
              "      <td>NaN</td>\n",
              "      <td>{139103297: 'Chen and Durrett, 2019;', 1899278...</td>\n",
              "    </tr>\n",
              "    <tr>\n",
              "      <th>1537</th>\n",
              "      <td>248476403</td>\n",
              "      <td>{'arxiv': None, 'mag': None, 'acl': None, 'pub...</td>\n",
              "      <td>{'source': {'pdfurls': ['https://arxiv.org/pdf...</td>\n",
              "      <td>NaN</td>\n",
              "      <td>{230799347: 'Geva et al., 2021', 225075843: 'L...</td>\n",
              "    </tr>\n",
              "    <tr>\n",
              "      <th>1538</th>\n",
              "      <td>13269303</td>\n",
              "      <td>{'arxiv': None, 'mag': '2017331012', 'acl': No...</td>\n",
              "      <td>{'source': {'pdfurls': None, 'pdfsha': '884cb4...</td>\n",
              "      <td>NaN</td>\n",
              "      <td>{}</td>\n",
              "    </tr>\n",
              "  </tbody>\n",
              "</table>\n",
              "<p>1539 rows × 5 columns</p>\n",
              "</div>"
            ],
            "text/plain": [
              "       corpusid                                        externalids  \\\n",
              "0     263908862  {'arxiv': '2310.08541', 'mag': None, 'acl': No...   \n",
              "1     248665596  {'arxiv': None, 'mag': None, 'acl': None, 'pub...   \n",
              "2       6729528  {'arxiv': '1406.0930', 'mag': '2296706549', 'a...   \n",
              "3     264490922  {'arxiv': None, 'mag': None, 'acl': None, 'pub...   \n",
              "4      14155615  {'arxiv': None, 'mag': '2065435633', 'acl': No...   \n",
              "...         ...                                                ...   \n",
              "1534  236459873  {'arxiv': None, 'mag': None, 'acl': '2021.acl-...   \n",
              "1535    2724512  {'arxiv': None, 'mag': '2021858754', 'acl': No...   \n",
              "1536  202565945  {'arxiv': '1909.05803', 'mag': '2972378157', '...   \n",
              "1537  248476403  {'arxiv': None, 'mag': None, 'acl': None, 'pub...   \n",
              "1538   13269303  {'arxiv': None, 'mag': '2017331012', 'acl': No...   \n",
              "\n",
              "                                                content  updated  \\\n",
              "0     {'source': {'pdfurls': ['https://export.arxiv....      NaN   \n",
              "1     {'source': {'pdfurls': ['https://arxiv.org/pdf...      NaN   \n",
              "2     {'source': {'pdfurls': ['https://arxiv.org/pdf...      NaN   \n",
              "3     {'source': {'pdfurls': ['https://export.arxiv....      NaN   \n",
              "4     {'source': {'pdfurls': None, 'pdfsha': '8cd7af...      NaN   \n",
              "...                                                 ...      ...   \n",
              "1534  {'source': {'pdfurls': ['https://aclanthology....      NaN   \n",
              "1535  {'source': {'pdfurls': None, 'pdfsha': 'fb186d...      NaN   \n",
              "1536  {'source': {'pdfurls': ['https://www.aclweb.or...      NaN   \n",
              "1537  {'source': {'pdfurls': ['https://arxiv.org/pdf...      NaN   \n",
              "1538  {'source': {'pdfurls': None, 'pdfsha': '884cb4...      NaN   \n",
              "\n",
              "                                           ref_paper_id  \n",
              "0                                                    {}  \n",
              "1                                   {220302524: '[30]'}  \n",
              "2                                                    {}  \n",
              "3     {123758373: 'Chen and Durrett, 2019;', 2466523...  \n",
              "4                                                   NaN  \n",
              "...                                                 ...  \n",
              "1534  {218487313: 'Yadav et al., 2020', 52822214: 'Y...  \n",
              "1535                                  {9060527: '[41]'}  \n",
              "1536  {139103297: 'Chen and Durrett, 2019;', 1899278...  \n",
              "1537  {230799347: 'Geva et al., 2021', 225075843: 'L...  \n",
              "1538                                                 {}  \n",
              "\n",
              "[1539 rows x 5 columns]"
            ]
          },
          "execution_count": 10,
          "metadata": {},
          "output_type": "execute_result"
        }
      ],
      "source": [
        "#HotpotQa paper_content from S2orc,Source in https://doi.org/10.34740/KAGGLE/DS/4330260\n",
        "df=pd.read_csv(f'{path}/Hotpotqa_paper_content.csv',index_col=0)"
      ]
    },
    {
      "cell_type": "code",
      "execution_count": null,
      "metadata": {},
      "outputs": [],
      "source": [
        "#Get offset of text\n",
        "def get_offset(dict,i):\n",
        "    start=dic[i]['start']\n",
        "    end=dic[i]['end']\n",
        "    return start,end"
      ]
    },
    {
      "cell_type": "code",
      "execution_count": null,
      "metadata": {},
      "outputs": [],
      "source": [
        "#Extract text of paper-title by using annotation and offset  \n",
        "title_list=[]\n",
        "for i in range(len(df)):\n",
        "    a=eval(df['content'][i])\n",
        "    if a['annotations']['title']==None:\n",
        "        title_list.append('None')\n",
        "    else:\n",
        "        dic=eval(a['annotations']['title'])\n",
        "        start,end = get_offset(dic,0)\n",
        "        title_list.append(a['text'][start:end])"
      ]
    },
    {
      "cell_type": "code",
      "execution_count": null,
      "metadata": {},
      "outputs": [],
      "source": [
        "# Insert paper-title column\n",
        "df.insert(1,'title',title_list)\n",
        "df"
      ]
    },
    {
      "cell_type": "code",
      "execution_count": null,
      "metadata": {},
      "outputs": [],
      "source": [
        "#Extract text from Section 'limitation','Disscussion','Conclusion'\n",
        "columns = ['corpusid','paper-title','section-title','Target','Content','ref_paper_id','pdfurl']\n",
        "d_sec=pd.DataFrame(columns=columns)\n",
        "\n",
        "strings=''\n",
        "for i in range(len(df)):\n",
        "    a=eval(df['content'][i])\n",
        "    position=[]\n",
        "    text_end=len(a['text'])-1\n",
        "\n",
        "    #URL\n",
        "    try:\n",
        "        url=a['source']['pdfurls'][0]\n",
        "    except:\n",
        "        url='NaN'\n",
        "    \n",
        "    #section\n",
        "    try:\n",
        "        dic=eval(a['annotations']['sectionheader'])\n",
        "    except:\n",
        "        continue\n",
        "\n",
        "    for j in range(len(dic)):\n",
        "        if 'attributes' not in list(dic[j].keys()): # section_num strings in section\n",
        "            continue\n",
        "        \n",
        "        start,end = get_offset(dic,j)\n",
        "        try:\n",
        "            start_next,end_next=get_offset(dic,j+1)\n",
        "        except:\n",
        "            print('bottom')\n",
        "        # print('start:',start)\n",
        "        sec_num=dic[j]['attributes']['n']\n",
        "        section_title = a['text'][start:end].lower()\n",
        "            \n",
        "        if 'disscuss' in section_title and 'conclusion' not in section_title:\n",
        "            Total=a['text'][end:start_next].lower()\n",
        "\n",
        "            print(Fore.GREEN +'disscussion:',Total.replace('\\n',''))\n",
        "            strings=Total.replace('\\n','')\n",
        "            # add-data\n",
        "            d_sec_append=pd.DataFrame(data=[[df['corpusid'][i],df['title'][i],section_title,'Insight-tree',strings,df['ref_paper_id'][i],url]], columns=columns)\n",
        "            d_sec=pd.concat([d_sec, d_sec_append], ignore_index=True, axis=0)\n",
        "\n",
        "        if 'limitation' in section_title and 'conclusion' not in section_title:\n",
        "            Total=a['text'][end:start_next].lower()\n",
        "\n",
        "            print(Fore.GREEN +'limitation:',Total.replace('\\n',''))\n",
        "            strings=Total.replace('\\n','')\n",
        "            # add-data\n",
        "            d_sec_append=pd.DataFrame(data=[[df['corpusid'][i],df['title'][i],section_title,'Insight-tree',strings,df['ref_paper_id'][i],url]], columns=columns)\n",
        "            d_sec=pd.concat([d_sec, d_sec_append], ignore_index=True, axis=0)\n",
        "\n",
        "        \n",
        "        if 'conclusion' in section_title:\n",
        "            for p in range(len(eval(a['annotations']['paragraph']))):\n",
        "                ref_flag=eval(a['annotations']['paragraph'])[p]['end']\n",
        "                if ref_flag > end:\n",
        "                    break\n",
        "            \n",
        "            Total=a['text'][end:ref_flag].lower()\n",
        "\n",
        "            print(Fore.GREEN +'conclusion:',Total.replace('\\n',''))\n",
        "            strings=Total.replace('\\n','')\n",
        "            # add-data\n",
        "            d_sec_append=pd.DataFrame(data=[[df['corpusid'][i],df['title'][i],section_title,'Insight-tree',strings,df['ref_paper_id'][i],url]], columns=columns)\n",
        "            d_sec=pd.concat([d_sec, d_sec_append], ignore_index=True, axis=0)\n",
        "        \n",
        "        print(Fore.MAGENTA + 'Section_title:',sec_num + ' ',a['text'][start:end])\n",
        "        end_pos=end\n",
        "        position.append(end_pos)\n",
        "        \n",
        "    print('\\n')\n",
        "    print('#########')"
      ]
    },
    {
      "cell_type": "code",
      "execution_count": null,
      "metadata": {},
      "outputs": [],
      "source": [
        "Insight_dataset=d_sec[d_sec['Target']=='Insight-tree']\n",
        "Insight_dataset"
      ]
    },
    {
      "cell_type": "code",
      "execution_count": null,
      "metadata": {},
      "outputs": [],
      "source": [
        "Insight_dataset=Insight_dataset.reset_index(drop=True)"
      ]
    },
    {
      "cell_type": "code",
      "execution_count": null,
      "metadata": {},
      "outputs": [],
      "source": [
        "#Delete rows with lack of information\n",
        "emp=[]\n",
        "for i in range(len(Insight_dataset)):\n",
        "    text=Insight_dataset['Content'][i]\n",
        "    if len(text)<=10:\n",
        "        emp.append(i)\n",
        "\n",
        "Insight_dataset.drop(index=emp, inplace=True)\n",
        "\n",
        "Insight_dataset=Insight_dataset.reset_index(drop=True)"
      ]
    },
    {
      "cell_type": "code",
      "execution_count": null,
      "metadata": {},
      "outputs": [],
      "source": [
        "#Drop_duplicates\n",
        "Insight_dataset=Insight_dataset.drop_duplicates(\"Content\")\n",
        "Insight_dataset=Insight_dataset.reset_index(drop=True)"
      ]
    },
    {
      "cell_type": "code",
      "execution_count": null,
      "metadata": {},
      "outputs": [],
      "source": [
        "Insight_dataset.insert(7,'ReSolved','None')\n",
        "Insight_dataset.insert(8,'Finding','None')\n",
        "Insight_dataset=Insight_dataset.reset_index(drop=True)"
      ]
    },
    {
      "cell_type": "code",
      "execution_count": null,
      "metadata": {},
      "outputs": [],
      "source": [
        "Insight_dataset.to_csv('./Data/Insight_dataset.csv')"
      ]
    },
    {
      "cell_type": "markdown",
      "metadata": {},
      "source": [
        "# Sentence segmentation"
      ]
    },
    {
      "cell_type": "code",
      "execution_count": null,
      "metadata": {},
      "outputs": [],
      "source": [
        "import spacy\n",
        "import pandas as pd"
      ]
    },
    {
      "cell_type": "code",
      "execution_count": null,
      "metadata": {},
      "outputs": [],
      "source": [
        "# Install en_core_scibert for sentence segmentation\n",
        "!pip install https://s3-us-west-2.amazonaws.com/ai2-s2-scispacy/releases/v0.5.4/en_core_sci_lg-0.5.4.tar.gz"
      ]
    },
    {
      "cell_type": "code",
      "execution_count": null,
      "metadata": {},
      "outputs": [],
      "source": [
        "#load en_core_sci_lg\n",
        "nlp = spacy.load('en_core_sci_lg')"
      ]
    },
    {
      "cell_type": "code",
      "execution_count": null,
      "metadata": {},
      "outputs": [],
      "source": [
        "columns = ['corpusid','paper-title','section-title','Target','Sentence','pdf-url']\n",
        "d_sentences=pd.DataFrame(columns=columns)\n",
        "\n",
        "for i in range(len(Insight_dataset)):\n",
        "    doc=nlp(Insight_dataset['Content'][i])\n",
        "    for sentence in doc.sents:\n",
        "        # print(sentence)\n",
        "        # add-data\n",
        "        text=str(sentence)\n",
        "        d_sentences_append=pd.DataFrame(data=[[Insight_dataset['corpusid'][i],Insight_dataset['paper-title'][i],Insight_dataset['section-title'][i],'Insight-tree',text,Insight_dataset['pdfurl'][i]]], columns=columns)\n",
        "        d_sentences=pd.concat([d_sentences, d_sentences_append], ignore_index=True, axis=0)"
      ]
    },
    {
      "cell_type": "code",
      "execution_count": null,
      "metadata": {},
      "outputs": [],
      "source": [
        "d_sentences"
      ]
    },
    {
      "cell_type": "code",
      "execution_count": null,
      "metadata": {},
      "outputs": [],
      "source": [
        "d_sentences.to_csv('./Data/Insight_sentences.csv')"
      ]
    }
  ],
  "metadata": {
    "accelerator": "GPU",
    "colab": {
      "name": "gnn_citations",
      "provenance": [],
      "toc_visible": true
    },
    "kernelspec": {
      "display_name": "main_research",
      "language": "python",
      "name": "python3"
    },
    "language_info": {
      "codemirror_mode": {
        "name": "ipython",
        "version": 3
      },
      "file_extension": ".py",
      "mimetype": "text/x-python",
      "name": "python",
      "nbconvert_exporter": "python",
      "pygments_lexer": "ipython3",
      "version": "3.9.13"
    }
  },
  "nbformat": 4,
  "nbformat_minor": 0
}
